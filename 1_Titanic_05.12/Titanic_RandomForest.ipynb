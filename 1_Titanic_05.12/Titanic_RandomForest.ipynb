{
 "cells": [
  {
   "cell_type": "markdown",
   "id": "72c748e1",
   "metadata": {},
   "source": [
    "# Titanic_RandomForest"
   ]
  },
  {
   "cell_type": "markdown",
   "id": "9d249d63",
   "metadata": {},
   "source": [
    "어떤 특징(feature)을 갖는 승객이 침몰하는 배에서 생존했는지를 분석하고,\n",
    "새로운 승객 정보가 주어졌을 때 생존할 수 있는지를 예측하는 kaggle competition의 기본 과제\n",
    "\n",
    "1. train.csv:\n",
    "train.csv는 탑승한 승객들 정보를 .csv파일 형태로 가지고 있음. <br>\n",
    "(엑셀 파일 형태로 정리되어 있다고 생각) <br>\n",
    "총 891명의 승객 정보를 가지고 있음\n",
    "- Survied column이 target column -> 우리가 예측해야하는 특징값 (feature)\n",
    "    - \"1\"이면 생존, \"0\"이면 사망\n",
    "\n",
    "2. test.csv:\n",
    "test.csv 역시 탑승한 승객들 정보를 .csv 파일 형태로 가지고 있음. <br>\n",
    "(엑셀 파일 형태로 정리되어 있다고 생각) <br>\n",
    "총 418명의 승객 정보를 가지고 있음.\n",
    "- test.csv에는 \"Survived\" column이 없음 -> 검사할 때 추가해야 함\n",
    "\n",
    "3. gender_submission.csv:\n",
    "예측 csv파일을 어떻게 만들어야 하는지 예시를 보여줌\n",
    "- submission file에는 \"PassengerId\"랑 \"Survived\" column이 있어야함"
   ]
  },
  {
   "cell_type": "markdown",
   "id": "f9fd49e5",
   "metadata": {},
   "source": [
    "### Data download\n",
    "1. `pip install kaggle` -> 오류 발생 시 `pip install --user kaggle`\n",
    "\n",
    "2. API Key 발급\n",
    "\n",
    "API credentials\n",
    "To use the Kaggle API, sign up for a Kaggle account at https://www.kaggle.com. Then go to the 'Account' tab of your user profile (https://www.kaggle.com/<username>/account) and select 'Create API Token'. This will trigger the download of kaggle.json, a file containing your API credentials. Place this file in the location ***~/.kaggle/kaggle.json***. You can define a shell environment variable KAGGLE_CONFIG_DIR to change this location to $KAGGLE_CONFIG_DIR/kaggle.json\n",
    "\n",
    "For your security, ensure that other users of your computer do not have read access to your credentials. On Unix-based systems you can do this with the following command:\n",
    "\n",
    "`chmod 600 ~/.kaggle/kaggle.json`"
   ]
  },
  {
   "cell_type": "markdown",
   "id": "21b66429",
   "metadata": {},
   "source": [
    "- 혹은 아래 블로그 참고\n",
    "https://polarcompass.tistory.com/147"
   ]
  },
  {
   "cell_type": "markdown",
   "id": "0bb09321",
   "metadata": {},
   "source": [
    "설치 완료 후 아래 명령어 수행<br>\n",
    "`kaggle competitions download -c titanic`"
   ]
  },
  {
   "cell_type": "markdown",
   "id": "35b2b5b7",
   "metadata": {},
   "source": [
    "### import pakages"
   ]
  },
  {
   "cell_type": "code",
   "execution_count": 12,
   "id": "f6010b86",
   "metadata": {},
   "outputs": [
    {
     "name": "stdout",
     "output_type": "stream",
     "text": [
      "./data/test.csv\n",
      "./data/train.csv\n",
      "./data/gender_submission.csv\n"
     ]
    }
   ],
   "source": [
    "# numpy : 행렬이나 다차원 배열을 쉽게 처리할 수 있도록 지원하는 파이썬의 라이브러리 -> 수치 계산을 효율적으로 하기 위해 불러옴\n",
    "# pandas : 데이터 조작 및 분석을 위한 파이썬 라이브러리 -> 테이블을 만들기 위해 불러옴\n",
    "\n",
    "import numpy as np # numpy를 np로 나타내기\n",
    "import pandas as pd # pandas를 pd로 나타내기\n",
    "import os\n",
    "\n",
    "# data 파일에 train, test csv 파일이 있는지를 확인 -> 경로를 출력\n",
    "for dirname, _, filenames in os.walk('./data/'):\n",
    "    for filename in filenames:\n",
    "        print(os.path.join(dirname, filename))"
   ]
  },
  {
   "cell_type": "markdown",
   "id": "92719aa1",
   "metadata": {},
   "source": [
    "### load dataset"
   ]
  },
  {
   "cell_type": "code",
   "execution_count": 15,
   "id": "04e74bb7",
   "metadata": {},
   "outputs": [
    {
     "data": {
      "text/html": [
       "<div>\n",
       "<style scoped>\n",
       "    .dataframe tbody tr th:only-of-type {\n",
       "        vertical-align: middle;\n",
       "    }\n",
       "\n",
       "    .dataframe tbody tr th {\n",
       "        vertical-align: top;\n",
       "    }\n",
       "\n",
       "    .dataframe thead th {\n",
       "        text-align: right;\n",
       "    }\n",
       "</style>\n",
       "<table border=\"1\" class=\"dataframe\">\n",
       "  <thead>\n",
       "    <tr style=\"text-align: right;\">\n",
       "      <th></th>\n",
       "      <th>PassengerId</th>\n",
       "      <th>Survived</th>\n",
       "      <th>Pclass</th>\n",
       "      <th>Name</th>\n",
       "      <th>Sex</th>\n",
       "      <th>Age</th>\n",
       "      <th>SibSp</th>\n",
       "      <th>Parch</th>\n",
       "      <th>Ticket</th>\n",
       "      <th>Fare</th>\n",
       "      <th>Cabin</th>\n",
       "      <th>Embarked</th>\n",
       "    </tr>\n",
       "  </thead>\n",
       "  <tbody>\n",
       "    <tr>\n",
       "      <th>0</th>\n",
       "      <td>1</td>\n",
       "      <td>0</td>\n",
       "      <td>3</td>\n",
       "      <td>Braund, Mr. Owen Harris</td>\n",
       "      <td>male</td>\n",
       "      <td>22.0</td>\n",
       "      <td>1</td>\n",
       "      <td>0</td>\n",
       "      <td>A/5 21171</td>\n",
       "      <td>7.2500</td>\n",
       "      <td>NaN</td>\n",
       "      <td>S</td>\n",
       "    </tr>\n",
       "    <tr>\n",
       "      <th>1</th>\n",
       "      <td>2</td>\n",
       "      <td>1</td>\n",
       "      <td>1</td>\n",
       "      <td>Cumings, Mrs. John Bradley (Florence Briggs Th...</td>\n",
       "      <td>female</td>\n",
       "      <td>38.0</td>\n",
       "      <td>1</td>\n",
       "      <td>0</td>\n",
       "      <td>PC 17599</td>\n",
       "      <td>71.2833</td>\n",
       "      <td>C85</td>\n",
       "      <td>C</td>\n",
       "    </tr>\n",
       "    <tr>\n",
       "      <th>2</th>\n",
       "      <td>3</td>\n",
       "      <td>1</td>\n",
       "      <td>3</td>\n",
       "      <td>Heikkinen, Miss. Laina</td>\n",
       "      <td>female</td>\n",
       "      <td>26.0</td>\n",
       "      <td>0</td>\n",
       "      <td>0</td>\n",
       "      <td>STON/O2. 3101282</td>\n",
       "      <td>7.9250</td>\n",
       "      <td>NaN</td>\n",
       "      <td>S</td>\n",
       "    </tr>\n",
       "    <tr>\n",
       "      <th>3</th>\n",
       "      <td>4</td>\n",
       "      <td>1</td>\n",
       "      <td>1</td>\n",
       "      <td>Futrelle, Mrs. Jacques Heath (Lily May Peel)</td>\n",
       "      <td>female</td>\n",
       "      <td>35.0</td>\n",
       "      <td>1</td>\n",
       "      <td>0</td>\n",
       "      <td>113803</td>\n",
       "      <td>53.1000</td>\n",
       "      <td>C123</td>\n",
       "      <td>S</td>\n",
       "    </tr>\n",
       "    <tr>\n",
       "      <th>4</th>\n",
       "      <td>5</td>\n",
       "      <td>0</td>\n",
       "      <td>3</td>\n",
       "      <td>Allen, Mr. William Henry</td>\n",
       "      <td>male</td>\n",
       "      <td>35.0</td>\n",
       "      <td>0</td>\n",
       "      <td>0</td>\n",
       "      <td>373450</td>\n",
       "      <td>8.0500</td>\n",
       "      <td>NaN</td>\n",
       "      <td>S</td>\n",
       "    </tr>\n",
       "  </tbody>\n",
       "</table>\n",
       "</div>"
      ],
      "text/plain": [
       "   PassengerId  Survived  Pclass  \\\n",
       "0            1         0       3   \n",
       "1            2         1       1   \n",
       "2            3         1       3   \n",
       "3            4         1       1   \n",
       "4            5         0       3   \n",
       "\n",
       "                                                Name     Sex   Age  SibSp  \\\n",
       "0                            Braund, Mr. Owen Harris    male  22.0      1   \n",
       "1  Cumings, Mrs. John Bradley (Florence Briggs Th...  female  38.0      1   \n",
       "2                             Heikkinen, Miss. Laina  female  26.0      0   \n",
       "3       Futrelle, Mrs. Jacques Heath (Lily May Peel)  female  35.0      1   \n",
       "4                           Allen, Mr. William Henry    male  35.0      0   \n",
       "\n",
       "   Parch            Ticket     Fare Cabin Embarked  \n",
       "0      0         A/5 21171   7.2500   NaN        S  \n",
       "1      0          PC 17599  71.2833   C85        C  \n",
       "2      0  STON/O2. 3101282   7.9250   NaN        S  \n",
       "3      0            113803  53.1000  C123        S  \n",
       "4      0            373450   8.0500   NaN        S  "
      ]
     },
     "execution_count": 15,
     "metadata": {},
     "output_type": "execute_result"
    }
   ],
   "source": [
    "train_data = pd.read_csv(\"./data/train.csv\") # train에 대한 정보를 pd 패키지를 사용해서 train_data라는 변수에 저장\n",
    "train_data.head() # csv파일의 위에 5개 요소 출력 # ()안에 숫자 만큼 요소 출력 (defult 5개)"
   ]
  },
  {
   "cell_type": "code",
   "execution_count": 4,
   "id": "0c9742d0",
   "metadata": {},
   "outputs": [
    {
     "data": {
      "text/html": [
       "<div>\n",
       "<style scoped>\n",
       "    .dataframe tbody tr th:only-of-type {\n",
       "        vertical-align: middle;\n",
       "    }\n",
       "\n",
       "    .dataframe tbody tr th {\n",
       "        vertical-align: top;\n",
       "    }\n",
       "\n",
       "    .dataframe thead th {\n",
       "        text-align: right;\n",
       "    }\n",
       "</style>\n",
       "<table border=\"1\" class=\"dataframe\">\n",
       "  <thead>\n",
       "    <tr style=\"text-align: right;\">\n",
       "      <th></th>\n",
       "      <th>PassengerId</th>\n",
       "      <th>Pclass</th>\n",
       "      <th>Name</th>\n",
       "      <th>Sex</th>\n",
       "      <th>Age</th>\n",
       "      <th>SibSp</th>\n",
       "      <th>Parch</th>\n",
       "      <th>Ticket</th>\n",
       "      <th>Fare</th>\n",
       "      <th>Cabin</th>\n",
       "      <th>Embarked</th>\n",
       "    </tr>\n",
       "  </thead>\n",
       "  <tbody>\n",
       "    <tr>\n",
       "      <th>0</th>\n",
       "      <td>892</td>\n",
       "      <td>3</td>\n",
       "      <td>Kelly, Mr. James</td>\n",
       "      <td>male</td>\n",
       "      <td>34.5</td>\n",
       "      <td>0</td>\n",
       "      <td>0</td>\n",
       "      <td>330911</td>\n",
       "      <td>7.8292</td>\n",
       "      <td>NaN</td>\n",
       "      <td>Q</td>\n",
       "    </tr>\n",
       "    <tr>\n",
       "      <th>1</th>\n",
       "      <td>893</td>\n",
       "      <td>3</td>\n",
       "      <td>Wilkes, Mrs. James (Ellen Needs)</td>\n",
       "      <td>female</td>\n",
       "      <td>47.0</td>\n",
       "      <td>1</td>\n",
       "      <td>0</td>\n",
       "      <td>363272</td>\n",
       "      <td>7.0000</td>\n",
       "      <td>NaN</td>\n",
       "      <td>S</td>\n",
       "    </tr>\n",
       "    <tr>\n",
       "      <th>2</th>\n",
       "      <td>894</td>\n",
       "      <td>2</td>\n",
       "      <td>Myles, Mr. Thomas Francis</td>\n",
       "      <td>male</td>\n",
       "      <td>62.0</td>\n",
       "      <td>0</td>\n",
       "      <td>0</td>\n",
       "      <td>240276</td>\n",
       "      <td>9.6875</td>\n",
       "      <td>NaN</td>\n",
       "      <td>Q</td>\n",
       "    </tr>\n",
       "    <tr>\n",
       "      <th>3</th>\n",
       "      <td>895</td>\n",
       "      <td>3</td>\n",
       "      <td>Wirz, Mr. Albert</td>\n",
       "      <td>male</td>\n",
       "      <td>27.0</td>\n",
       "      <td>0</td>\n",
       "      <td>0</td>\n",
       "      <td>315154</td>\n",
       "      <td>8.6625</td>\n",
       "      <td>NaN</td>\n",
       "      <td>S</td>\n",
       "    </tr>\n",
       "    <tr>\n",
       "      <th>4</th>\n",
       "      <td>896</td>\n",
       "      <td>3</td>\n",
       "      <td>Hirvonen, Mrs. Alexander (Helga E Lindqvist)</td>\n",
       "      <td>female</td>\n",
       "      <td>22.0</td>\n",
       "      <td>1</td>\n",
       "      <td>1</td>\n",
       "      <td>3101298</td>\n",
       "      <td>12.2875</td>\n",
       "      <td>NaN</td>\n",
       "      <td>S</td>\n",
       "    </tr>\n",
       "  </tbody>\n",
       "</table>\n",
       "</div>"
      ],
      "text/plain": [
       "   PassengerId  Pclass                                          Name     Sex  \\\n",
       "0          892       3                              Kelly, Mr. James    male   \n",
       "1          893       3              Wilkes, Mrs. James (Ellen Needs)  female   \n",
       "2          894       2                     Myles, Mr. Thomas Francis    male   \n",
       "3          895       3                              Wirz, Mr. Albert    male   \n",
       "4          896       3  Hirvonen, Mrs. Alexander (Helga E Lindqvist)  female   \n",
       "\n",
       "    Age  SibSp  Parch   Ticket     Fare Cabin Embarked  \n",
       "0  34.5      0      0   330911   7.8292   NaN        Q  \n",
       "1  47.0      1      0   363272   7.0000   NaN        S  \n",
       "2  62.0      0      0   240276   9.6875   NaN        Q  \n",
       "3  27.0      0      0   315154   8.6625   NaN        S  \n",
       "4  22.0      1      1  3101298  12.2875   NaN        S  "
      ]
     },
     "execution_count": 4,
     "metadata": {},
     "output_type": "execute_result"
    }
   ],
   "source": [
    "test_data = pd.read_csv(\"./data/test.csv\")\n",
    "test_data.head()"
   ]
  },
  {
   "cell_type": "code",
   "execution_count": 21,
   "id": "9255945b",
   "metadata": {},
   "outputs": [
    {
     "data": {
      "text/plain": [
       "1      1\n",
       "2      1\n",
       "3      1\n",
       "8      1\n",
       "9      1\n",
       "      ..\n",
       "880    1\n",
       "882    0\n",
       "885    0\n",
       "887    1\n",
       "888    0\n",
       "Name: Survived, Length: 314, dtype: int64"
      ]
     },
     "execution_count": 21,
     "metadata": {},
     "output_type": "execute_result"
    }
   ],
   "source": [
    "# train_data에서 female 인 사람들만 추출하고 그 중 \"Survived\" column(행)값만 가져옴\n",
    "women = train_data.loc[train_data.Sex == 'female'][\"Survived\"]\n",
    "women # 가져온 값을 출력한다"
   ]
  },
  {
   "cell_type": "code",
   "execution_count": 6,
   "id": "cb96bb94",
   "metadata": {},
   "outputs": [
    {
     "name": "stdout",
     "output_type": "stream",
     "text": [
      "% of women who survived:  0.7420382165605095\n"
     ]
    }
   ],
   "source": [
    "women = train_data.loc[train_data.Sex == 'female'][\"Survived\"]\n",
    "\n",
    "# sum(women) -> 살아남았으면 1이고, 아니면 0이니까 survived column값을 다 더하면 살아남은 여성들의 수를 구할 수 있음 \n",
    "# len(women) -> women만 추출된 데이터의 길이\n",
    "rate_women = sum(women)/len(women)\n",
    "\n",
    "# 살아남은 여성의 비율을 출력\n",
    "print(\"% of women who survived: \", rate_women)"
   ]
  },
  {
   "cell_type": "code",
   "execution_count": 7,
   "id": "668bac92",
   "metadata": {},
   "outputs": [
    {
     "name": "stdout",
     "output_type": "stream",
     "text": [
      "% of men who survived:  0.18890814558058924\n"
     ]
    }
   ],
   "source": [
    "men = train_data.loc[train_data.Sex=='male'][\"Survived\"]\n",
    "rate_men = sum(men)/len(men)\n",
    "\n",
    "print(\"% of men who survived: \", rate_men)"
   ]
  },
  {
   "cell_type": "markdown",
   "id": "b8097269",
   "metadata": {},
   "source": [
    "### 패턴 분석\n",
    "- 약 74퍼센트의 여성이 생존, 19프로의 남성이 사망\n",
    "- 입력 데이터가 여성이면 26퍼센트의 오류 발생 가능성, 남성이면 18% 오류 발생 가능성 존재\n",
    "- gender_based submission은 오직 `Sex`라는 하나의 feature colum (특징값)만 고려해서 생존여부 판단\n",
    "- 여러 개의 column(승객의 특징)들을 결합하여 더 복잡한 패턴을 발견해서 더 좋은 예측으로 이끌어야 한다."
   ]
  },
  {
   "cell_type": "markdown",
   "id": "e0f235fc",
   "metadata": {},
   "source": [
    "### Use Random forest model \n",
    "- Random forest model\n",
    "    - 분류 및 회귀 작업에 사용되는 기계 학습 알고리즘\n",
    "    - 일련의 규칙에 따라 의견을 제시하는 간단한 모델인 의사 결정 트리 개념을 기반으로 한다.\n",
    "    - 학습데이터를 과하게 학습하기 쉬워서, 훈련 데이터에서는 잘 수행되지만, 새 데이터에서는 일반화되지 않을 수 있다.\n",
    "- example\n",
    "    - question 1 : 승객이 여자인가 남자인가?\n",
    "        - question 2-1 : 승객이 여자라면 1등석에 탔는가, 2등석에 탔는가 ...\n",
    "            - question 3-1-1 : 여자인데 1등석에 탔다면 동승자가 1명인가, 2명인가 ...\n",
    "    - 승객이 여자고, 1등석에 탔고, 동승자가 1명이고, ... , 는 대체로 죽었다. 라는 패턴 파악 -> 이를 근거로 판단\n",
    "- sklearn.ensemble 에서 RandomForestClassifier 모델을 import 해서 사용"
   ]
  },
  {
   "cell_type": "code",
   "execution_count": 8,
   "id": "29adfa1e",
   "metadata": {},
   "outputs": [
    {
     "data": {
      "text/html": [
       "<div>\n",
       "<style scoped>\n",
       "    .dataframe tbody tr th:only-of-type {\n",
       "        vertical-align: middle;\n",
       "    }\n",
       "\n",
       "    .dataframe tbody tr th {\n",
       "        vertical-align: top;\n",
       "    }\n",
       "\n",
       "    .dataframe thead th {\n",
       "        text-align: right;\n",
       "    }\n",
       "</style>\n",
       "<table border=\"1\" class=\"dataframe\">\n",
       "  <thead>\n",
       "    <tr style=\"text-align: right;\">\n",
       "      <th></th>\n",
       "      <th>Pclass</th>\n",
       "      <th>Sex</th>\n",
       "      <th>SibSp</th>\n",
       "      <th>Parch</th>\n",
       "    </tr>\n",
       "  </thead>\n",
       "  <tbody>\n",
       "    <tr>\n",
       "      <th>0</th>\n",
       "      <td>3</td>\n",
       "      <td>male</td>\n",
       "      <td>1</td>\n",
       "      <td>0</td>\n",
       "    </tr>\n",
       "    <tr>\n",
       "      <th>1</th>\n",
       "      <td>1</td>\n",
       "      <td>female</td>\n",
       "      <td>1</td>\n",
       "      <td>0</td>\n",
       "    </tr>\n",
       "    <tr>\n",
       "      <th>2</th>\n",
       "      <td>3</td>\n",
       "      <td>female</td>\n",
       "      <td>0</td>\n",
       "      <td>0</td>\n",
       "    </tr>\n",
       "    <tr>\n",
       "      <th>3</th>\n",
       "      <td>1</td>\n",
       "      <td>female</td>\n",
       "      <td>1</td>\n",
       "      <td>0</td>\n",
       "    </tr>\n",
       "    <tr>\n",
       "      <th>4</th>\n",
       "      <td>3</td>\n",
       "      <td>male</td>\n",
       "      <td>0</td>\n",
       "      <td>0</td>\n",
       "    </tr>\n",
       "    <tr>\n",
       "      <th>...</th>\n",
       "      <td>...</td>\n",
       "      <td>...</td>\n",
       "      <td>...</td>\n",
       "      <td>...</td>\n",
       "    </tr>\n",
       "    <tr>\n",
       "      <th>886</th>\n",
       "      <td>2</td>\n",
       "      <td>male</td>\n",
       "      <td>0</td>\n",
       "      <td>0</td>\n",
       "    </tr>\n",
       "    <tr>\n",
       "      <th>887</th>\n",
       "      <td>1</td>\n",
       "      <td>female</td>\n",
       "      <td>0</td>\n",
       "      <td>0</td>\n",
       "    </tr>\n",
       "    <tr>\n",
       "      <th>888</th>\n",
       "      <td>3</td>\n",
       "      <td>female</td>\n",
       "      <td>1</td>\n",
       "      <td>2</td>\n",
       "    </tr>\n",
       "    <tr>\n",
       "      <th>889</th>\n",
       "      <td>1</td>\n",
       "      <td>male</td>\n",
       "      <td>0</td>\n",
       "      <td>0</td>\n",
       "    </tr>\n",
       "    <tr>\n",
       "      <th>890</th>\n",
       "      <td>3</td>\n",
       "      <td>male</td>\n",
       "      <td>0</td>\n",
       "      <td>0</td>\n",
       "    </tr>\n",
       "  </tbody>\n",
       "</table>\n",
       "<p>891 rows × 4 columns</p>\n",
       "</div>"
      ],
      "text/plain": [
       "     Pclass     Sex  SibSp  Parch\n",
       "0         3    male      1      0\n",
       "1         1  female      1      0\n",
       "2         3  female      0      0\n",
       "3         1  female      1      0\n",
       "4         3    male      0      0\n",
       "..      ...     ...    ...    ...\n",
       "886       2    male      0      0\n",
       "887       1  female      0      0\n",
       "888       3  female      1      2\n",
       "889       1    male      0      0\n",
       "890       3    male      0      0\n",
       "\n",
       "[891 rows x 4 columns]"
      ]
     },
     "execution_count": 8,
     "metadata": {},
     "output_type": "execute_result"
    }
   ],
   "source": [
    "# train_data 에서 원하는 column을 가지고 온다\n",
    "train_data[[\"Pclass\", \"Sex\", \"SibSp\", \"Parch\"]]"
   ]
  },
  {
   "cell_type": "markdown",
   "id": "82fc8074",
   "metadata": {},
   "source": [
    "### 데이터 전처리\n",
    "- 사용할 데이터 (input data)를 선택하여 분석에 알맞은 형태로 가공하는 일\n",
    "- 데이터 전처리에는\n",
    "    - 데이터 클렌징\n",
    "    - 결손값 처리(채우기와 채워넣기)\n",
    "    - 데이터 인코딩\n",
    "    - 이상치 제거\n",
    "    - feature 선택, 추출, 가공 등"
   ]
  },
  {
   "cell_type": "markdown",
   "id": "0c17f493",
   "metadata": {},
   "source": [
    "### one - hot encoding\n",
    "\n",
    "- 머신러닝은 문자형을 인식하지 못하기 때문에 수치형으로 변환해주어야 한다\n",
    "- 예를들어 해, 달, 별 같이 숫자로 표현할 수 없게 표현되어 있는 데이터를 숫자로 나타내줌\n",
    "    - 0, 1, 2에 이미 수치적 의미가 있기 때문에,\n",
    "    - 해 = (1, 0, 0, ...), 달 = (0, 1, 0, ...), 별 = (0, 0, 1, ...) 이런 식으로 표현 가능\n",
    "- 수행하면 각 카테고리에 해당하는 변수들이 모두 column에 더해지게 된다. 따라서 카테고리가 너무 많은 경우에는 사용하기 적합하지 않음\n"
   ]
  },
  {
   "cell_type": "code",
   "execution_count": 22,
   "id": "8be15ff1",
   "metadata": {},
   "outputs": [
    {
     "name": "stdout",
     "output_type": "stream",
     "text": [
      "Your submission was successfully saved!\n"
     ]
    }
   ],
   "source": [
    "# RandomForest package import \n",
    "from sklearn.ensemble import RandomForestClassifier\n",
    "\n",
    "y = train_data[\"Survived\"] # y에 생존여부(0,1) 추출\n",
    "\n",
    "# 4개의 특성 (객실 등급, 성별, 형제 or 배우자 수, 부모 or 자녀 수)만 패턴 파악에 고려\n",
    "features = [\"Pclass\", \"Sex\", \"SibSp\", \"Parch\"] \n",
    "\n",
    "# pd.get_dummies: 모든 데이터를 수치로 변환해주는 전처리 작업\n",
    "# one hot encoding\n",
    "X = pd.get_dummies(train_data[features]) # X에 전처리한 train data의 데이터를 추출 \n",
    "\n",
    "X_test = pd.get_dummies(test_data[features]) # test data로 train data와 같은 전처리를 가짐\n",
    "\n",
    "# 모델 객체 생성\n",
    "model = RandomForestClassifier(n_estimators=100, max_depth=5, random_state=1)\n",
    "\n",
    "#.fit()함수를 사용해서 학습\n",
    "model.fit(X, y)\n",
    "\n",
    "# .fit을 통해 훈련된 model을 가지고 predict\n",
    "predictions = model.predict(X_test)\n",
    "\n",
    "# 제출할 수 있도록 \"PassengerId\" column과 \"Survived\" column만 남긴 Dataframe을 만듬\n",
    "output = pd.DataFrame({'PassengerId': test_data.PassengerId, 'Survived': predictions})\n",
    "\n",
    "# 이걸 .csv 파일로 생성 -> 사이트에 제출하기 위함\n",
    "output.to_csv('submission.csv', index=False)\n",
    "\n",
    "print(\"Your submission was successfully saved!\")"
   ]
  },
  {
   "cell_type": "markdown",
   "id": "dea9093d",
   "metadata": {},
   "source": [
    "1. test_data -> 전처리 -> X_test\n",
    "2. X_test -> 모델 학습 -> prediction\n",
    "3. test_data에서 passengerID만 가져와서, prediction과 합친다"
   ]
  },
  {
   "cell_type": "markdown",
   "id": "1fa59709",
   "metadata": {},
   "source": [
    "### Submit\n",
    "- -c option: competition name\n",
    "- -f option: submission csv file name\n",
    "- -m option: submission description (설명글)"
   ]
  },
  {
   "cell_type": "code",
   "execution_count": null,
   "id": "02fca796",
   "metadata": {},
   "outputs": [
    {
     "name": "stdout",
     "output_type": "stream",
     "text": [
      "100%|██████████████████████████████████████| 2.77k/2.77k [00:00<00:00, 18.2kB/s]"
     ]
    }
   ],
   "source": [
    "!kaggle competitions submit -c titanic -f submission.csv -m \"tutorial\"\n",
    "# !는 터미널 실행 명령어"
   ]
  },
  {
   "cell_type": "markdown",
   "id": "526dc04a",
   "metadata": {},
   "source": [
    "### view results"
   ]
  },
  {
   "cell_type": "code",
   "execution_count": 2,
   "id": "a729ec6b",
   "metadata": {},
   "outputs": [
    {
     "name": "stdout",
     "output_type": "stream",
     "text": [
      "fileName        date                 description  status    publicScore  privateScore  \r\n",
      "--------------  -------------------  -----------  --------  -----------  ------------  \r\n",
      "submission.csv  2023-05-08 13:05:58  tutorial     complete  0.77511                    \r\n",
      "submission.csv  2023-05-08 12:59:22  tutorial     complete  0.77511                    \r\n",
      "submission.csv  2023-05-08 12:54:21  tutorial     complete  0.77511                    \r\n",
      "submission.csv  2023-05-08 11:40:29  tutorial     complete  0.77511                    \r\n"
     ]
    }
   ],
   "source": [
    "!kaggle competitions submissions -c titanic"
   ]
  },
  {
   "cell_type": "code",
   "execution_count": null,
   "id": "73df4463",
   "metadata": {},
   "outputs": [],
   "source": []
  }
 ],
 "metadata": {
  "kernelspec": {
   "display_name": "adrnln",
   "language": "python",
   "name": "adrnln"
  },
  "language_info": {
   "codemirror_mode": {
    "name": "ipython",
    "version": 3
   },
   "file_extension": ".py",
   "mimetype": "text/x-python",
   "name": "python",
   "nbconvert_exporter": "python",
   "pygments_lexer": "ipython3",
   "version": "3.8.16"
  }
 },
 "nbformat": 4,
 "nbformat_minor": 5
}
